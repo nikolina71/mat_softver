{
 "cells": [
  {
   "cell_type": "markdown",
   "metadata": {},
   "source": [
    "# Matematika putovanja"
   ]
  },
  {
   "cell_type": "markdown",
   "metadata": {},
   "source": [
    "## Uvod"
   ]
  },
  {
   "cell_type": "markdown",
   "metadata": {},
   "source": [
    "Neki ljudi u slobodno vrijeme vole ostati kod kuće, uživati u miru i tišini. Drugi pak vole svoje slobodno vrijeme provest aktivno, što u svojoj zemlji, što negdje drugdje. Osobno spadam u ove druge pa ću u ovoj zadaći spojiti matematiku i putovanja."
   ]
  },
  {
   "cell_type": "markdown",
   "metadata": {},
   "source": [
    "Koristit ću podatke s https://openflights.org/data.html. Tu se nalaze podaci o aviokompanijama, zračnim lukama i avio rutama te s http://insideairbnb.com/get-the-data.html, gdje se nalaze podaci o pojedinim gradovima i rezerviranjima smještaja u istim(nisu dostupni svi gradovi). Na drugom linku svaki grad ima svoju datoteku.(možda složim u jednu)"
   ]
  },
  {
   "cell_type": "code",
   "execution_count": 1,
   "metadata": {},
   "outputs": [],
   "source": [
    "import pandas as pd\n",
    "rute = pd.read_csv('rute.csv')\n",
    "zrluke = pd.read_excel('aerodromi.xlsx')\n",
    "kompanije = pd.read_excel('airlines.xlsx')"
   ]
  },
  {
   "cell_type": "code",
   "execution_count": null,
   "metadata": {},
   "outputs": [],
   "source": []
  }
 ],
 "metadata": {
  "kernelspec": {
   "display_name": "Python 3",
   "language": "python",
   "name": "python3"
  },
  "language_info": {
   "codemirror_mode": {
    "name": "ipython",
    "version": 3
   },
   "file_extension": ".py",
   "mimetype": "text/x-python",
   "name": "python",
   "nbconvert_exporter": "python",
   "pygments_lexer": "ipython3",
   "version": "3.6.4"
  }
 },
 "nbformat": 4,
 "nbformat_minor": 2
}
